{
  "nbformat": 4,
  "nbformat_minor": 0,
  "metadata": {
    "colab": {
      "provenance": []
    },
    "kernelspec": {
      "name": "python3",
      "display_name": "Python 3"
    },
    "language_info": {
      "name": "python"
    }
  },
  "cells": [
    {
      "cell_type": "code",
      "execution_count": null,
      "metadata": {
        "colab": {
          "base_uri": "https://localhost:8080/"
        },
        "id": "0rkO2c1e7X3s",
        "outputId": "7728d516-4b78-4276-ef29-52996d1a4ee0"
      },
      "outputs": [
        {
          "output_type": "stream",
          "name": "stdout",
          "text": [
            "Generated Text: \n",
            "a mathematical concept used to another. Markov chains have various applications in fields like economics, genetics, and computer science. In a mathematical concept used to another. Markov chains are a Markov chain, the next state to model systems that preceded it.\n"
          ]
        }
      ],
      "source": [
        "import random\n",
        "\n",
        "# Step 1: Prepare the text corpus (you can use your own corpus or sample text)\n",
        "corpus = \"\"\"Markov chains are a mathematical concept used to model systems that transition from one state to another.\n",
        "            Markov chains have various applications in fields like economics, genetics, and computer science.\n",
        "            In a Markov chain, the next state only depends on the current state, not on the sequence of events that preceded it.\"\"\"\n",
        "\n",
        "# Step 2: Tokenize the corpus into words\n",
        "words = corpus.split()\n",
        "\n",
        "# Step 3: Build the Markov Chain model\n",
        "markov_chain = {}\n",
        "\n",
        "for i in range(len(words) - 1):\n",
        "    word = words[i]\n",
        "    next_word = words[i + 1]\n",
        "    if word not in markov_chain:\n",
        "        markov_chain[word] = []\n",
        "    markov_chain[word].append(next_word)\n",
        "\n",
        "# Step 4: Function to generate text using the Markov Chain model\n",
        "def generate_text(start_word, length=50):\n",
        "    current_word = start_word\n",
        "    generated_text = [current_word]\n",
        "\n",
        "    for _ in range(length - 1):\n",
        "        if current_word not in markov_chain:\n",
        "            break  # Stop if no next word exists for the current word\n",
        "        next_word = random.choice(markov_chain[current_word])\n",
        "        generated_text.append(next_word)\n",
        "        current_word = next_word\n",
        "\n",
        "    return ' '.join(generated_text)\n",
        "\n",
        "# Step 5: Generate and print new text\n",
        "start_word = random.choice(words)  # Pick a random starting word\n",
        "generated = generate_text(start_word)\n",
        "\n",
        "print(f\"Generated Text: \\n{generated}\")\n"
      ]
    }
  ]
}